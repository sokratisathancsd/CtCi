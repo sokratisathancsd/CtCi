{
 "cells": [
  {
   "cell_type": "code",
   "execution_count": 33,
   "id": "4086125b-fdfd-4250-b56d-70630e6847bb",
   "metadata": {},
   "outputs": [],
   "source": [
    "import numpy as np\n",
    "import big_o"
   ]
  },
  {
   "cell_type": "code",
   "execution_count": 35,
   "id": "8bf9563b-1288-4261-ad62-33c43ef41537",
   "metadata": {},
   "outputs": [
    {
     "name": "stdout",
     "output_type": "stream",
     "text": [
      "(1, 1) (1, 1)\n",
      "(1, 2) (1, 2)\n",
      "(1, 2) (2, 1)\n",
      "(2, 1) (1, 2)\n",
      "(2, 1) (2, 1)\n",
      "(1, 3) (1, 3)\n",
      "(1, 3) (3, 1)\n",
      "(3, 1) (1, 3)\n",
      "(3, 1) (3, 1)\n",
      "(1, 4) (1, 4)\n",
      "(1, 4) (4, 1)\n",
      "(4, 1) (1, 4)\n",
      "(4, 1) (4, 1)\n",
      "(1, 5) (1, 5)\n",
      "(1, 5) (5, 1)\n",
      "(5, 1) (1, 5)\n",
      "(5, 1) (5, 1)\n",
      "(1, 6) (1, 6)\n",
      "(1, 6) (6, 1)\n",
      "(6, 1) (1, 6)\n",
      "(6, 1) (6, 1)\n",
      "(1, 7) (1, 7)\n",
      "(1, 7) (7, 1)\n",
      "(7, 1) (1, 7)\n",
      "(7, 1) (7, 1)\n",
      "(1, 8) (1, 8)\n",
      "(1, 8) (8, 1)\n",
      "(8, 1) (1, 8)\n",
      "(8, 1) (8, 1)\n",
      "(1, 9) (1, 9)\n",
      "(1, 9) (9, 1)\n",
      "(9, 1) (1, 9)\n",
      "(9, 1) (9, 1)\n",
      "(2, 2) (2, 2)\n",
      "(2, 3) (2, 3)\n",
      "(2, 3) (3, 2)\n",
      "(3, 2) (2, 3)\n",
      "(3, 2) (3, 2)\n",
      "(2, 4) (2, 4)\n",
      "(2, 4) (4, 2)\n",
      "(4, 2) (2, 4)\n",
      "(4, 2) (4, 2)\n",
      "(2, 5) (2, 5)\n",
      "(2, 5) (5, 2)\n",
      "(5, 2) (2, 5)\n",
      "(5, 2) (5, 2)\n",
      "(2, 6) (2, 6)\n",
      "(2, 6) (6, 2)\n",
      "(6, 2) (2, 6)\n",
      "(6, 2) (6, 2)\n",
      "(2, 7) (2, 7)\n",
      "(2, 7) (7, 2)\n",
      "(7, 2) (2, 7)\n",
      "(7, 2) (7, 2)\n",
      "(2, 8) (2, 8)\n",
      "(2, 8) (8, 2)\n",
      "(8, 2) (2, 8)\n",
      "(8, 2) (8, 2)\n",
      "(2, 9) (2, 9)\n",
      "(2, 9) (9, 2)\n",
      "(9, 2) (2, 9)\n",
      "(9, 2) (9, 2)\n",
      "(3, 3) (3, 3)\n",
      "(3, 4) (3, 4)\n",
      "(3, 4) (4, 3)\n",
      "(4, 3) (3, 4)\n",
      "(4, 3) (4, 3)\n",
      "(3, 5) (3, 5)\n",
      "(3, 5) (5, 3)\n",
      "(5, 3) (3, 5)\n",
      "(5, 3) (5, 3)\n",
      "(3, 6) (3, 6)\n",
      "(3, 6) (6, 3)\n",
      "(6, 3) (3, 6)\n",
      "(6, 3) (6, 3)\n",
      "(3, 7) (3, 7)\n",
      "(3, 7) (7, 3)\n",
      "(7, 3) (3, 7)\n",
      "(7, 3) (7, 3)\n",
      "(3, 8) (3, 8)\n",
      "(3, 8) (8, 3)\n",
      "(8, 3) (3, 8)\n",
      "(8, 3) (8, 3)\n",
      "(3, 9) (3, 9)\n",
      "(3, 9) (9, 3)\n",
      "(9, 3) (3, 9)\n",
      "(9, 3) (9, 3)\n",
      "(4, 4) (4, 4)\n",
      "(4, 5) (4, 5)\n",
      "(4, 5) (5, 4)\n",
      "(5, 4) (4, 5)\n",
      "(5, 4) (5, 4)\n",
      "(4, 6) (4, 6)\n",
      "(4, 6) (6, 4)\n",
      "(6, 4) (4, 6)\n",
      "(6, 4) (6, 4)\n",
      "(4, 7) (4, 7)\n",
      "(4, 7) (7, 4)\n",
      "(7, 4) (4, 7)\n",
      "(7, 4) (7, 4)\n",
      "(4, 8) (4, 8)\n",
      "(4, 8) (8, 4)\n",
      "(8, 4) (4, 8)\n",
      "(8, 4) (8, 4)\n",
      "(4, 9) (4, 9)\n",
      "(4, 9) (9, 4)\n",
      "(9, 4) (4, 9)\n",
      "(9, 4) (9, 4)\n",
      "(5, 5) (5, 5)\n",
      "(5, 6) (5, 6)\n",
      "(5, 6) (6, 5)\n",
      "(6, 5) (5, 6)\n",
      "(6, 5) (6, 5)\n",
      "(5, 7) (5, 7)\n",
      "(5, 7) (7, 5)\n",
      "(7, 5) (5, 7)\n",
      "(7, 5) (7, 5)\n",
      "(5, 8) (5, 8)\n",
      "(5, 8) (8, 5)\n",
      "(8, 5) (5, 8)\n",
      "(8, 5) (8, 5)\n",
      "(5, 9) (5, 9)\n",
      "(5, 9) (9, 5)\n",
      "(9, 5) (5, 9)\n",
      "(9, 5) (9, 5)\n",
      "(6, 6) (6, 6)\n",
      "(6, 7) (6, 7)\n",
      "(6, 7) (7, 6)\n",
      "(7, 6) (6, 7)\n",
      "(7, 6) (7, 6)\n",
      "(6, 8) (6, 8)\n",
      "(6, 8) (8, 6)\n",
      "(8, 6) (6, 8)\n",
      "(8, 6) (8, 6)\n",
      "(6, 9) (6, 9)\n",
      "(6, 9) (9, 6)\n",
      "(9, 6) (6, 9)\n",
      "(9, 6) (9, 6)\n",
      "(7, 7) (7, 7)\n",
      "(7, 8) (7, 8)\n",
      "(7, 8) (8, 7)\n",
      "(8, 7) (7, 8)\n",
      "(8, 7) (8, 7)\n",
      "(7, 9) (7, 9)\n",
      "(7, 9) (9, 7)\n",
      "(9, 7) (7, 9)\n",
      "(9, 7) (9, 7)\n",
      "(8, 8) (8, 8)\n",
      "(8, 9) (8, 9)\n",
      "(8, 9) (9, 8)\n",
      "(9, 8) (8, 9)\n",
      "(9, 8) (9, 8)\n",
      "(9, 9) (9, 9)\n"
     ]
    }
   ],
   "source": [
    "#Solve a**3 + b**3 = c**3 + d**3 in O(N**2)\n",
    "n = 10\n",
    "dict_ = {}\n",
    "for c in range(1, n):\n",
    "    for d in range(1, n):\n",
    "        result = c**3 + d**3\n",
    "        dict_.setdefault(result, []).append((c,d))\n",
    "        \n",
    "for key in dict_.keys():\n",
    "    for pair1 in dict_[key]:\n",
    "        for pair2 in dict_[key]:\n",
    "            print(pair1, pair2)"
   ]
  },
  {
   "cell_type": "code",
   "execution_count": 38,
   "id": "08746baa-1abc-4615-bfbc-7bd511da51a6",
   "metadata": {},
   "outputs": [
    {
     "name": "stdin",
     "output_type": "stream",
     "text": [
      "Give the bigger string b:  aababbacbcabcabiahcbaihsbcabccbabcbabcbcbbabibcc\n",
      "Give the substring s:  bac\n"
     ]
    },
    {
     "name": "stdout",
     "output_type": "stream",
     "text": [
      "{'a': 0, 'c': 0, 'b': 0, 'other': 0} [1, 1, 1, 0]\n",
      "bac\n",
      "acb\n",
      "bca\n",
      "cab\n",
      "abc\n",
      "bca\n",
      "cab\n",
      "cba\n",
      "bca\n",
      "cab\n",
      "abc\n",
      "cba\n",
      "abc\n",
      "cba\n",
      "abc\n",
      "15 times found\n",
      "Wall time: 4.56 s\n"
     ]
    }
   ],
   "source": [
    "%%time\n",
    "#Find all permutations of string s that are inside a bigger string b in O(b) where b is length of b-string (more  KMP, Rabin Karp, Boyer Moore algorithms)\n",
    "b = input(\"Give the bigger string b: \") #cbabadcbbabbcbabaabccbabc\n",
    "s = input(\"Give the substring s: \") #abbc\n",
    "\n",
    "#Implementation using an array with the appearances of each letter, we want [1,2,1] means one 'a', two 'b' and one 'c' \n",
    "dict_appearances={}\n",
    "s_app={}\n",
    "counter=0\n",
    "#Initialization of the two dictionaries\n",
    "for letter in set(s):\n",
    "    dict_appearances[letter]=0\n",
    "dict_appearances['other']=0\n",
    "\n",
    "s_app = dict_appearances.copy()\n",
    "for letter in s:\n",
    "    s_app[letter]+=1\n",
    "s_app=list(s_app.values())\n",
    "\n",
    "print(dict_appearances, s_app)\n",
    "\n",
    "#Initialization of dict_appearances with the first letters\n",
    "for first_f in b[:len(s)]:\n",
    "    if(first_f not in s):\n",
    "        dict_appearances['other']+=1\n",
    "    else:\n",
    "        dict_appearances[first_f] +=1\n",
    "if(np.array_equal(s_app, list(dict_appearances.values()))):\n",
    "    counter+=1\n",
    "    print(b[:len(s)])\n",
    "\n",
    "#main loop of algorithm\n",
    "position_of_last_letter=0\n",
    "last_letter = b[position_of_last_letter]\n",
    "posinb = len(s)\n",
    "for letter in b[posinb:]:\n",
    "    posinb+=1\n",
    "    if(letter not in s):\n",
    "        letter='other'\n",
    "    if(last_letter not in s):\n",
    "        last_letter='other'\n",
    "    \n",
    "    dict_appearances[last_letter] -=1\n",
    "    position_of_last_letter+=1\n",
    "    dict_appearances[letter] +=1\n",
    "    \n",
    "    if(np.array_equal(s_app, list(dict_appearances.values()))):\n",
    "        counter+=1\n",
    "        print(b[posinb-len(s):posinb])\n",
    "        \n",
    "    last_letter = b[position_of_last_letter]\n",
    "print(f\"{counter} times found\")"
   ]
  },
  {
   "cell_type": "code",
   "execution_count": 39,
   "id": "c4d06d8a-00aa-4602-8b26-134b243cfcc0",
   "metadata": {},
   "outputs": [
    {
     "name": "stdin",
     "output_type": "stream",
     "text": [
      "How many numbers to generate:  5\n"
     ]
    },
    {
     "name": "stdout",
     "output_type": "stream",
     "text": [
      "[462, 904, 644]\n",
      "[442, 112]\n"
     ]
    },
    {
     "name": "stdin",
     "output_type": "stream",
     "text": [
      "Press 0 to stop, 1 to continue:  5\n",
      "How many numbers to generate:  5\n"
     ]
    },
    {
     "name": "stdout",
     "output_type": "stream",
     "text": [
      "[882, 904, 900, 968, 924]\n",
      "[644, 462, 306, 112, 442]\n"
     ]
    },
    {
     "name": "stdin",
     "output_type": "stream",
     "text": [
      "Press 0 to stop, 1 to continue:  5\n",
      "How many numbers to generate:  5\n"
     ]
    },
    {
     "name": "stdout",
     "output_type": "stream",
     "text": [
      "[644, 729, 823, 904, 924, 900, 882, 968]\n",
      "[517, 462, 306, 355, 442, 53, 112]\n"
     ]
    },
    {
     "name": "stdin",
     "output_type": "stream",
     "text": [
      "Press 0 to stop, 1 to continue:  5\n",
      "How many numbers to generate:  5\n"
     ]
    },
    {
     "name": "stdout",
     "output_type": "stream",
     "text": [
      "[644, 729, 823, 782, 772, 900, 882, 968, 904, 924]\n",
      "[616, 517, 306, 515, 442, 53, 112, 355, 462, 102]\n"
     ]
    },
    {
     "name": "stdin",
     "output_type": "stream",
     "text": [
      "Press 0 to stop, 1 to continue:  5\n",
      "How many numbers to generate:  5\n"
     ]
    },
    {
     "name": "stdout",
     "output_type": "stream",
     "text": [
      "[517, 682, 616, 782, 729, 644, 882, 968, 904, 924, 772, 900, 823]\n",
      "[515, 462, 513, 355, 442, 306, 464, 102, 112, 102, 1, 53]\n"
     ]
    },
    {
     "name": "stdin",
     "output_type": "stream",
     "text": [
      "Press 0 to stop, 1 to continue:  0\n"
     ]
    }
   ],
   "source": [
    "#Using 2 heaps to keep track of median element when generating random numbers\n",
    "# Python3 program to demonstrate working of heapq\n",
    " \n",
    "import heapq\n",
    "import msvcrt\n",
    "import random\n",
    "\n",
    "ar = [83, 387, 372, 307, 91]\n",
    "def mainfunc(minH, maxH, flag):\n",
    "    n = int(input(\"How many numbers to generate: \"))\n",
    "    for i in range(n):\n",
    "        num = random.randint(1,1000)\n",
    "        if(not flag):\n",
    "            if(num>minH[0]):\n",
    "                heapq.heappush(minH, num)\n",
    "            else:\n",
    "                heapq.heappush(maxH, num)\n",
    "                heapq._heapify_max(maxH)\n",
    "        else:\n",
    "            flag=False\n",
    "            heapq.heappush(minH, num)\n",
    "    while(len(minH)>len(maxH)):\n",
    "        heapq.heappush(maxH,heapq.heappop(minH))\n",
    "        heapq._heapify_max(maxH)\n",
    "    while(len(maxH)>len(minH)):\n",
    "        heapq.heappush(minH, heapq._heappop_max(maxH))\n",
    "\n",
    "    print(minH)\n",
    "    print(maxH)\n",
    "\n",
    "    return minH, maxH\n",
    "\n",
    "# Creating empty heap\n",
    "minHeap = []\n",
    "heapq.heapify(minHeap)\n",
    "maxHeap = []\n",
    "heapq._heapify_max(maxHeap)\n",
    " \n",
    "# Adding items to the heap using heappush function\n",
    "\n",
    "minHeap, maxHeap = mainfunc(minHeap, maxHeap, True)\n",
    "user_endin = int(input(\"Press 0 to stop, 1 to continue: \"))\n",
    "while(user_endin):\n",
    "    minHeap, maxHeap = mainfunc(minHeap, maxHeap, False)\n",
    "    user_endin = int(input(\"Press 0 to stop, 1 to continue: \"))\n",
    "\n",
    "\n",
    "\n"
   ]
  },
  {
   "cell_type": "code",
   "execution_count": 40,
   "id": "734cf045-57f6-4ed2-a6e4-a07bfae00470",
   "metadata": {},
   "outputs": [],
   "source": [
    "#Compare Elements in lists in O(N)"
   ]
  },
  {
   "cell_type": "code",
   "execution_count": null,
   "id": "76f71ddf-e448-437e-bbab-6f3e0b642dd4",
   "metadata": {},
   "outputs": [],
   "source": []
  }
 ],
 "metadata": {
  "kernelspec": {
   "display_name": "Python 3",
   "language": "python",
   "name": "python3"
  },
  "language_info": {
   "codemirror_mode": {
    "name": "ipython",
    "version": 3
   },
   "file_extension": ".py",
   "mimetype": "text/x-python",
   "name": "python",
   "nbconvert_exporter": "python",
   "pygments_lexer": "ipython3",
   "version": "3.8.8"
  }
 },
 "nbformat": 4,
 "nbformat_minor": 5
}
